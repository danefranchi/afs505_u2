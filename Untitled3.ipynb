{
 "cells": [
  {
   "cell_type": "code",
   "execution_count": 1,
   "metadata": {},
   "outputs": [],
   "source": [
    "import numpy as np\n",
    "import pandas as pd"
   ]
  },
  {
   "cell_type": "code",
   "execution_count": 5,
   "metadata": {},
   "outputs": [
    {
     "data": {
      "text/plain": [
       "0     2\n",
       "1     3\n",
       "2     5\n",
       "3     7\n",
       "4    11\n",
       "5    13\n",
       "dtype: int64"
      ]
     },
     "execution_count": 5,
     "metadata": {},
     "output_type": "execute_result"
    }
   ],
   "source": [
    "#task 2 create series\n",
    "two_ser = pd.Series([2,3,5,7,11,13])\n",
    "two_ser"
   ]
  },
  {
   "cell_type": "code",
   "execution_count": 11,
   "metadata": {},
   "outputs": [
    {
     "name": "stdout",
     "output_type": "stream",
     "text": [
      "   prime composite\n",
      "0      2         4\n",
      "1      3         6\n",
      "2      5         8\n",
      "3      7         9\n",
      "4     11        10\n",
      "5     13        12\n"
     ]
    }
   ],
   "source": [
    "two_df = pd.DataFrame(\n",
    "    {'prime': [2,3,5,7,11,13],\n",
    "     'composite': ['4', '6', '8', '9', '10', '12']})\n",
    "print(two_df)"
   ]
  },
  {
   "cell_type": "code",
   "execution_count": 12,
   "metadata": {},
   "outputs": [
    {
     "data": {
      "text/html": [
       "<div>\n",
       "<style scoped>\n",
       "    .dataframe tbody tr th:only-of-type {\n",
       "        vertical-align: middle;\n",
       "    }\n",
       "\n",
       "    .dataframe tbody tr th {\n",
       "        vertical-align: top;\n",
       "    }\n",
       "\n",
       "    .dataframe thead th {\n",
       "        text-align: right;\n",
       "    }\n",
       "</style>\n",
       "<table border=\"1\" class=\"dataframe\">\n",
       "  <thead>\n",
       "    <tr style=\"text-align: right;\">\n",
       "      <th></th>\n",
       "      <th>A1</th>\n",
       "      <th>A2</th>\n",
       "      <th>B1</th>\n",
       "      <th>C1</th>\n",
       "    </tr>\n",
       "  </thead>\n",
       "  <tbody>\n",
       "    <tr>\n",
       "      <td>2020-03-01</td>\n",
       "      <td>0.076146</td>\n",
       "      <td>-0.361045</td>\n",
       "      <td>0.471159</td>\n",
       "      <td>-0.962305</td>\n",
       "    </tr>\n",
       "    <tr>\n",
       "      <td>2020-03-02</td>\n",
       "      <td>-0.018203</td>\n",
       "      <td>1.741547</td>\n",
       "      <td>-0.060428</td>\n",
       "      <td>-1.000927</td>\n",
       "    </tr>\n",
       "    <tr>\n",
       "      <td>2020-03-03</td>\n",
       "      <td>-0.549659</td>\n",
       "      <td>0.359616</td>\n",
       "      <td>1.015058</td>\n",
       "      <td>-0.814049</td>\n",
       "    </tr>\n",
       "    <tr>\n",
       "      <td>2020-03-04</td>\n",
       "      <td>-0.154751</td>\n",
       "      <td>0.784920</td>\n",
       "      <td>0.831719</td>\n",
       "      <td>2.072386</td>\n",
       "    </tr>\n",
       "    <tr>\n",
       "      <td>2020-03-05</td>\n",
       "      <td>-0.102391</td>\n",
       "      <td>1.108221</td>\n",
       "      <td>0.839279</td>\n",
       "      <td>0.481357</td>\n",
       "    </tr>\n",
       "    <tr>\n",
       "      <td>2020-03-06</td>\n",
       "      <td>0.104328</td>\n",
       "      <td>-0.737461</td>\n",
       "      <td>0.191650</td>\n",
       "      <td>0.465519</td>\n",
       "    </tr>\n",
       "  </tbody>\n",
       "</table>\n",
       "</div>"
      ],
      "text/plain": [
       "                  A1        A2        B1        C1\n",
       "2020-03-01  0.076146 -0.361045  0.471159 -0.962305\n",
       "2020-03-02 -0.018203  1.741547 -0.060428 -1.000927\n",
       "2020-03-03 -0.549659  0.359616  1.015058 -0.814049\n",
       "2020-03-04 -0.154751  0.784920  0.831719  2.072386\n",
       "2020-03-05 -0.102391  1.108221  0.839279  0.481357\n",
       "2020-03-06  0.104328 -0.737461  0.191650  0.465519"
      ]
     },
     "execution_count": 12,
     "metadata": {},
     "output_type": "execute_result"
    }
   ],
   "source": [
    "dates = pd.date_range('20200301', periods=6)\n",
    "dates\n",
    "df = pd.DataFrame(np.random.randn(6, 4), index=dates, columns=('A1','A2', 'B1', 'C1'))\n",
    "df"
   ]
  },
  {
   "cell_type": "code",
   "execution_count": null,
   "metadata": {},
   "outputs": [],
   "source": [
    "two_dis = pd.DataFrame(np.random.normal(10,5)) + .85\n",
    "print(two_dis)"
   ]
  }
 ],
 "metadata": {
  "kernelspec": {
   "display_name": "Python 3",
   "language": "python",
   "name": "python3"
  },
  "language_info": {
   "codemirror_mode": {
    "name": "ipython",
    "version": 3
   },
   "file_extension": ".py",
   "mimetype": "text/x-python",
   "name": "python",
   "nbconvert_exporter": "python",
   "pygments_lexer": "ipython3",
   "version": "3.7.4"
  }
 },
 "nbformat": 4,
 "nbformat_minor": 2
}
