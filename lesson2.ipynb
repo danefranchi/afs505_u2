{
 "cells": [
  {
   "cell_type": "code",
   "execution_count": 1,
   "metadata": {},
   "outputs": [],
   "source": [
    "import numpy as np"
   ]
  },
  {
   "cell_type": "code",
   "execution_count": 31,
   "metadata": {},
   "outputs": [
    {
     "name": "stdout",
     "output_type": "stream",
     "text": [
      "one [[[ 1  2  3]\n",
      "  [ 4  5  6]]\n",
      "\n",
      " [[ 7  8  9]\n",
      "  [10 11 12]]]\n",
      "two [[[ 1  2]\n",
      "  [ 3  4]\n",
      "  [ 5  6]]\n",
      "\n",
      " [[ 7  8]\n",
      "  [ 9 10]\n",
      "  [11 12]]]\n",
      "three [[[1]\n",
      "  [2]]\n",
      "\n",
      " [[3]\n",
      "  [4]]]\n",
      "...one element\n",
      "one[0,1,2] =  6\n",
      "two[0,1,1] =  4\n",
      "three[0,0,0] =  1\n",
      "...one dimension\n",
      "one[1:] is  [[[ 7  8  9]\n",
      "  [10 11 12]]]\n",
      "two[1:] is  [[[ 7  8]\n",
      "  [ 9 10]\n",
      "  [11 12]]]\n",
      "three[1:] is [[[3]\n",
      "  [4]]]\n",
      "...subset of one dimension\n",
      "one[0,1:]\n",
      "[[4 5 6]]\n",
      "two[0,1:]\n",
      "[[3 4]\n",
      " [5 6]]\n",
      "three[1,1:]\n",
      "[[4]]\n"
     ]
    }
   ],
   "source": [
    "#task 2\n",
    "one = np.array([[[1,2,3],[4,5,6]],[[7,8,9],[10,11,12]]])\n",
    "two = np.array([[[1,2],[3,4],[5,6]],[[7,8],[9,10],[11,12]]])\n",
    "three = np.array([[[1],[2]],[[3],[4]]])\n",
    "print(\"one\",one)\n",
    "print(\"two\",two)\n",
    "print(\"three\",three)\n",
    "\n",
    "print(\"...one element\")\n",
    "print(\"one[0,1,2] = \",one[0,1,2])\n",
    "print(\"two[0,1,1] = \",two[0,1,1])\n",
    "print(\"three[0,0,0] = \",three[0,0,0])\n",
    "\n",
    "print(\"...one dimension\")\n",
    "print(\"one[1:] is \",one[1:])\n",
    "print(\"two[1:] is \",two[1:])\n",
    "print(\"three[1:] is\",three[1:])\n",
    "\n",
    "print(\"...subset of one dimension\")\n",
    "print(\"one[0,1:]\")\n",
    "print(one[0,1:])\n",
    "print(\"two[0,1:]\")\n",
    "print(two[0,1:])\n",
    "print(\"three[1,1:]\")\n",
    "print(three[1,1:])"
   ]
  },
  {
   "cell_type": "code",
   "execution_count": 27,
   "metadata": {},
   "outputs": [
    {
     "name": "stdout",
     "output_type": "stream",
     "text": [
      "[[[ 1  2  3]\n",
      "  [ 4  5  6]]\n",
      "\n",
      " [[ 7  8  9]\n",
      "  [10 11 12]]]\n",
      "next\n",
      "[[1 2 3]\n",
      " [4 5 6]]\n"
     ]
    }
   ],
   "source": [
    "print(one[0:])\n",
    "print(\"next\")\n",
    "print(one[0,])"
   ]
  },
  {
   "cell_type": "code",
   "execution_count": 68,
   "metadata": {},
   "outputs": [
    {
     "name": "stdout",
     "output_type": "stream",
     "text": [
      "[[0.31086027 0.38707536 0.49853158]\n",
      " [0.30146559 0.1656742  0.19125123]\n",
      " [0.59409679 0.20712214 0.51587035]]\n",
      "four < .4\n",
      "[[ True  True False]\n",
      " [ True  True  True]\n",
      " [False  True False]]\n",
      "four > .6\n",
      "[[False False False]\n",
      " [False False False]\n",
      " [False False False]]\n",
      "[[False False False]\n",
      " [False False False]\n",
      " [False False False]]\n",
      "four = .5\n",
      "[[False False False]\n",
      " [False False False]\n",
      " [False False False]]\n",
      "four < .4 or four > .6\n",
      "[[ True  True False]\n",
      " [ True  True  True]\n",
      " [False  True False]]\n",
      "four < .4 and four > .6\n",
      "[[False False False]\n",
      " [False False False]\n",
      " [False False False]]\n"
     ]
    }
   ],
   "source": [
    "#task3\n",
    "four = np.random.random((3,3))\n",
    "print(four)\n",
    "print(\"four < .4\")\n",
    "print(four < .4)\n",
    "a = four < .4\n",
    "print(\"four > .6\")\n",
    "print(four > .6)\n",
    "b = four > .6\n",
    "print(b)\n",
    "print(\"four = .5\")\n",
    "print(four == .5)\n",
    "print(\"four < .4 or four > .6\")\n",
    "print(np.logical_or(a, b))\n",
    "print(\"four < .4 and four > .6\")\n",
    "print(np.logical_and(a, b))"
   ]
  },
  {
   "cell_type": "code",
   "execution_count": 71,
   "metadata": {},
   "outputs": [
    {
     "name": "stdout",
     "output_type": "stream",
     "text": [
      "Help on function resize in module numpy:\n",
      "\n",
      "resize(a, new_shape)\n",
      "    Return a new array with the specified shape.\n",
      "    \n",
      "    If the new array is larger than the original array, then the new\n",
      "    array is filled with repeated copies of `a`.  Note that this behavior\n",
      "    is different from a.resize(new_shape) which fills with zeros instead\n",
      "    of repeated copies of `a`.\n",
      "    \n",
      "    Parameters\n",
      "    ----------\n",
      "    a : array_like\n",
      "        Array to be resized.\n",
      "    \n",
      "    new_shape : int or tuple of int\n",
      "        Shape of resized array.\n",
      "    \n",
      "    Returns\n",
      "    -------\n",
      "    reshaped_array : ndarray\n",
      "        The new array is formed from the data in the old array, repeated\n",
      "        if necessary to fill out the required number of elements.  The\n",
      "        data are repeated in the order that they are stored in memory.\n",
      "    \n",
      "    See Also\n",
      "    --------\n",
      "    ndarray.resize : resize an array in-place.\n",
      "    \n",
      "    Notes\n",
      "    -----\n",
      "    Warning: This functionality does **not** consider axes separately,\n",
      "    i.e. it does not apply interpolation/extrapolation.\n",
      "    It fills the return array with the required number of elements, taken\n",
      "    from `a` as they are laid out in memory, disregarding strides and axes.\n",
      "    (This is in case the new shape is smaller. For larger, see above.)\n",
      "    This functionality is therefore not suitable to resize images,\n",
      "    or data where each axis represents a separate and distinct entity.\n",
      "    \n",
      "    Examples\n",
      "    --------\n",
      "    >>> a=np.array([[0,1],[2,3]])\n",
      "    >>> np.resize(a,(2,3))\n",
      "    array([[0, 1, 2],\n",
      "           [3, 0, 1]])\n",
      "    >>> np.resize(a,(1,4))\n",
      "    array([[0, 1, 2, 3]])\n",
      "    >>> np.resize(a,(2,4))\n",
      "    array([[0, 1, 2, 3],\n",
      "           [0, 1, 2, 3]])\n",
      "\n"
     ]
    }
   ],
   "source": [
    "#task4\n",
    "help(np.resize)"
   ]
  },
  {
   "cell_type": "code",
   "execution_count": 72,
   "metadata": {},
   "outputs": [
    {
     "name": "stdout",
     "output_type": "stream",
     "text": [
      "Help on function transpose in module numpy:\n",
      "\n",
      "transpose(a, axes=None)\n",
      "    Permute the dimensions of an array.\n",
      "    \n",
      "    Parameters\n",
      "    ----------\n",
      "    a : array_like\n",
      "        Input array.\n",
      "    axes : list of ints, optional\n",
      "        By default, reverse the dimensions, otherwise permute the axes\n",
      "        according to the values given.\n",
      "    \n",
      "    Returns\n",
      "    -------\n",
      "    p : ndarray\n",
      "        `a` with its axes permuted.  A view is returned whenever\n",
      "        possible.\n",
      "    \n",
      "    See Also\n",
      "    --------\n",
      "    moveaxis\n",
      "    argsort\n",
      "    \n",
      "    Notes\n",
      "    -----\n",
      "    Use `transpose(a, argsort(axes))` to invert the transposition of tensors\n",
      "    when using the `axes` keyword argument.\n",
      "    \n",
      "    Transposing a 1-D array returns an unchanged view of the original array.\n",
      "    \n",
      "    Examples\n",
      "    --------\n",
      "    >>> x = np.arange(4).reshape((2,2))\n",
      "    >>> x\n",
      "    array([[0, 1],\n",
      "           [2, 3]])\n",
      "    \n",
      "    >>> np.transpose(x)\n",
      "    array([[0, 2],\n",
      "           [1, 3]])\n",
      "    \n",
      "    >>> x = np.ones((1, 2, 3))\n",
      "    >>> np.transpose(x, (1, 0, 2)).shape\n",
      "    (2, 1, 3)\n",
      "\n"
     ]
    }
   ],
   "source": [
    "help(np.transpose)"
   ]
  },
  {
   "cell_type": "code",
   "execution_count": 77,
   "metadata": {},
   "outputs": [
    {
     "name": "stdout",
     "output_type": "stream",
     "text": [
      "matrix\n",
      "[[1 2 3]\n",
      " [4 5 6]]\n",
      "transpose\n",
      "[[1 4]\n",
      " [2 5]\n",
      " [3 6]]\n",
      "again\n",
      "[[1 4]\n",
      " [2 5]\n",
      " [3 6]]\n"
     ]
    }
   ],
   "source": [
    "#task5\n",
    "five = np.array([[1,2,3],[4,5,6]])\n",
    "print(\"matrix\")\n",
    "print(five)\n",
    "print(\"transpose\")\n",
    "print(np.transpose(five))\n",
    "print(\"again\")\n",
    "print(five.T)"
   ]
  },
  {
   "cell_type": "code",
   "execution_count": 82,
   "metadata": {},
   "outputs": [
    {
     "name": "stdout",
     "output_type": "stream",
     "text": [
      "resize 2 extra col\n",
      "[[1 2 3 4 5]\n",
      " [6 1 2 3 4]]\n",
      "resize 1 extra row\n",
      "[[1 2 3]\n",
      " [4 5 6]\n",
      " [1 2 3]]\n"
     ]
    }
   ],
   "source": [
    "print(\"resize 2 extra col\")\n",
    "print(np.resize(five,(2,5)))\n",
    "print(\"resize 1 extra row\")\n",
    "print(np.resize(five, (3,3)))"
   ]
  },
  {
   "cell_type": "code",
   "execution_count": 84,
   "metadata": {},
   "outputs": [
    {
     "name": "stdout",
     "output_type": "stream",
     "text": [
      "[[0.23891594 0.63432323]\n",
      " [0.9415917  0.44887263]\n",
      " [0.0823098  0.05059502]\n",
      " [0.96818217 0.96240101]\n",
      " [0.29773921 0.99846199]\n",
      " [0.7609956  0.47429737]\n",
      " [0.21389678 0.60515275]\n",
      " [0.94271506 0.56170953]]\n",
      "resize\n",
      "[[0.23891594 0.63432323 0.9415917  0.44887263]\n",
      " [0.0823098  0.05059502 0.96818217 0.96240101]\n",
      " [0.29773921 0.99846199 0.7609956  0.47429737]\n",
      " [0.21389678 0.60515275 0.94271506 0.56170953]]\n"
     ]
    }
   ],
   "source": [
    "six = np.random.random((8,2))\n",
    "print(six)\n",
    "print(\"resize\")\n",
    "print(np.resize(six, (4,4)))"
   ]
  },
  {
   "cell_type": "code",
   "execution_count": 134,
   "metadata": {},
   "outputs": [
    {
     "name": "stdout",
     "output_type": "stream",
     "text": [
      "[[[1 2 3]\n",
      "  [2 3 4]]\n",
      "\n",
      " [[3 4 5]\n",
      "  [4 5 6]]]\n",
      "append row\n",
      "[[[1 2 3]\n",
      "  [2 3 4]\n",
      "  [1 1 1]]\n",
      "\n",
      " [[3 4 5]\n",
      "  [4 5 6]\n",
      "  [2 2 2]]]\n",
      "append col\n",
      "[[[1 2 3 1]\n",
      "  [2 3 4 1]]\n",
      "\n",
      " [[3 4 5 2]\n",
      "  [4 5 6 2]]]\n"
     ]
    }
   ],
   "source": [
    "seven = np.array([[[1,2,3],[2,3,4]],[[3,4,5],[4,5,6]]])\n",
    "print(seven)\n",
    "print(\"append row\")\n",
    "print(np.append(seven, [[[1,1,1]],[[2,2,2]]], axis =1))\n",
    "\n",
    "print(\"append col\")\n",
    "print(np.append(seven, [[[1],[1]],[[2],[2]]], axis = 2))"
   ]
  },
  {
   "cell_type": "code",
   "execution_count": 165,
   "metadata": {},
   "outputs": [
    {
     "name": "stdout",
     "output_type": "stream",
     "text": [
      "[[  1  10 100]\n",
      " [  2  20 200]\n",
      " [  3  30 300]]\n",
      "add column of 6's\n",
      "[[  6   1  10 100]\n",
      " [  6   2  20 200]\n",
      " [  6   3  30 300]]\n",
      "add row of 6's\n",
      "[[  1  10 100]\n",
      " [  6   6   6]\n",
      " [  2  20 200]\n",
      " [  3  30 300]]\n",
      "delete 2nd row\n",
      "[[  1  10 100]\n",
      " [  3  30 300]]\n",
      "delete 2nd column\n",
      "[[  1 100]\n",
      " [  2 200]\n",
      " [  3 300]]\n"
     ]
    }
   ],
   "source": [
    "eight = np.array([[1,10,100],[2,20,200],[3,30,300]])\n",
    "print(eight)\n",
    "print(\"add column of 6's\")\n",
    "print(np.insert(eight, 0, 6, axis = 1))\n",
    "print(\"add row of 6's\")\n",
    "print(np.insert(eight, 1, 6, axis = 0))\n",
    "print(\"delete 2nd row\")\n",
    "print(np.delete(eight, 1, 0))\n",
    "print(\"delete 2nd column\")\n",
    "print(np.delete(eight, 1, 1))\n"
   ]
  },
  {
   "cell_type": "code",
   "execution_count": 168,
   "metadata": {},
   "outputs": [
    {
     "name": "stdout",
     "output_type": "stream",
     "text": [
      "concatenate:\n",
      "[1 2 3 4 1 1 1 1]\n",
      "adds one array another, adding colums\n",
      "\n",
      "vstack:\n",
      "[[1 2 3 4]\n",
      " [1 2 3 4]\n",
      " [5 6 7 8]]\n",
      "adds one array to another, adding rows\n",
      "\n",
      "hstack:\n",
      "[[1 2 3 4 1 2 3 4]\n",
      " [5 6 7 8 5 6 7 8]]\n",
      "adds two array, adding columns\n",
      "\n",
      "column_stack:\n",
      "[[1 2 3 4 1 2 3 4]\n",
      " [5 6 7 8 5 6 7 8]]\n",
      "not sure what the difference is in hstack and column_stack\n"
     ]
    }
   ],
   "source": [
    "# Concatentate `my_array` and `x`: similar to np.append()\n",
    "my_array = np.array([1,2,3,4])\n",
    "x = np.array([1,1,1,1])\n",
    "print(\"concatenate:\")\n",
    "print(np.concatenate((my_array, x)))\n",
    "\n",
    "print(\"adds one array another, adding colums\")\n",
    "\n",
    "# Stack arrays row-wise\n",
    "my_2d_array = np.array([[1,2,3,4], [5,6,7,8]])\n",
    "print(\"\\nvstack:\")\n",
    "print(np.vstack((my_array, my_2d_array)))\n",
    "\n",
    "print(\"adds one array to another, adding rows\")\n",
    "\n",
    "# Stack arrays horizontally\n",
    "print(\"\\nhstack:\")\n",
    "print(np.hstack((my_2d_array, my_2d_array)))\n",
    "\n",
    "print(\"adds two array, adding columns\")\n",
    "\n",
    "# Stack arrays column-wise\n",
    "print(\"\\ncolumn_stack:\")\n",
    "print(np.column_stack((my_2d_array, my_2d_array)))\n",
    "\n",
    "print(\"not sure what the difference is in hstack and column_stack\")"
   ]
  },
  {
   "cell_type": "code",
   "execution_count": 170,
   "metadata": {},
   "outputs": [
    {
     "name": "stdout",
     "output_type": "stream",
     "text": [
      "original:\n",
      "[[1 2 3 4]\n",
      " [5 6 7 8]]\n",
      "\n",
      "hsplit:\n",
      "[array([[1, 2],\n",
      "       [5, 6]]), array([[3, 4],\n",
      "       [7, 8]])]\n",
      "splits array by columns into given number of arrays\n",
      "\n",
      "vsplit:\n",
      "[array([[1, 2, 3, 4]]), array([[5, 6, 7, 8]])]\n",
      "splits array by rows into given number of arrays\n"
     ]
    }
   ],
   "source": [
    "# Create a 2D array.\n",
    "my_2d_array = np.array([[1,2,3,4], [5,6,7,8]])\n",
    "print(\"original:\")\n",
    "print(my_2d_array)\n",
    "\n",
    "# Split `my_stacked_array` horizontally at the 2nd index\n",
    "print(\"\\nhsplit:\")\n",
    "print(np.hsplit(my_2d_array, 2))\n",
    "\n",
    "print(\"splits array by columns into given number of arrays\")\n",
    "\n",
    "# Split `my_stacked_array` vertically at the 2nd index\n",
    "print(\"\\nvsplit:\")\n",
    "print(np.vsplit(my_2d_array, 2))\n",
    "\n",
    "print(\"splits array by rows into given number of arrays\")"
   ]
  },
  {
   "cell_type": "code",
   "execution_count": null,
   "metadata": {},
   "outputs": [],
   "source": []
  }
 ],
 "metadata": {
  "kernelspec": {
   "display_name": "Python 3",
   "language": "python",
   "name": "python3"
  },
  "language_info": {
   "codemirror_mode": {
    "name": "ipython",
    "version": 3
   },
   "file_extension": ".py",
   "mimetype": "text/x-python",
   "name": "python",
   "nbconvert_exporter": "python",
   "pygments_lexer": "ipython3",
   "version": "3.7.4"
  }
 },
 "nbformat": 4,
 "nbformat_minor": 2
}
